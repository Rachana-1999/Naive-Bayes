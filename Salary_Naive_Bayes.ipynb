{
 "cells": [
  {
   "cell_type": "code",
   "execution_count": 22,
   "metadata": {
    "ExecuteTime": {
     "end_time": "2021-01-20T14:04:57.474233Z",
     "start_time": "2021-01-20T14:04:57.456231Z"
    }
   },
   "outputs": [],
   "source": [
    "import numpy as np\n",
    "import matplotlib.pyplot as plt\n",
    "import pandas as pd\n",
    "from sklearn.model_selection import train_test_split\n",
    "from sklearn.naive_bayes import GaussianNB\n",
    "from sklearn import preprocessing"
   ]
  },
  {
   "cell_type": "code",
   "execution_count": 23,
   "metadata": {
    "ExecuteTime": {
     "end_time": "2021-01-20T14:04:58.464289Z",
     "start_time": "2021-01-20T14:04:58.088268Z"
    }
   },
   "outputs": [],
   "source": [
    "Dataa1 = pd.read_csv(\"SalaryData_Train(1).csv\",encoding = \"ISO-8859-1\")\n",
    "Dataa2 = pd.read_csv(\"SalaryData_Test(1).csv\",encoding = \"ISO-8859-1\")\n",
    "data1 = Dataa1.iloc[:,[0,3,9,10,11,13]]\n",
    "data2 = Dataa2.iloc[:,[0,3,9,10,11,13]]"
   ]
  },
  {
   "cell_type": "code",
   "execution_count": 24,
   "metadata": {
    "ExecuteTime": {
     "end_time": "2021-01-20T14:04:58.940316Z",
     "start_time": "2021-01-20T14:04:58.902314Z"
    }
   },
   "outputs": [],
   "source": [
    "label_encoder = preprocessing.LabelEncoder()\n",
    "Dataa1['Salary']= label_encoder.fit_transform(Dataa1['Salary'])\n",
    "Dataa2['Salary']= label_encoder.fit_transform(Dataa2['Salary'])"
   ]
  },
  {
   "cell_type": "code",
   "execution_count": 25,
   "metadata": {
    "ExecuteTime": {
     "end_time": "2021-01-20T14:04:59.585353Z",
     "start_time": "2021-01-20T14:04:59.561352Z"
    }
   },
   "outputs": [],
   "source": [
    "x1_train =  Dataa1.iloc[:,[0,3,9,10,11,13]]\n",
    "y1_train = Dataa1['Salary']\n",
    "x1_test = Dataa2.iloc[:,[0,3,9,10,11,13]]\n",
    "y1_test = Dataa2['Salary']"
   ]
  },
  {
   "cell_type": "code",
   "execution_count": 26,
   "metadata": {
    "ExecuteTime": {
     "end_time": "2021-01-20T14:05:01.915487Z",
     "start_time": "2021-01-20T14:05:01.868484Z"
    }
   },
   "outputs": [
    {
     "data": {
      "text/plain": [
       "(       age  educationno  capitalgain  capitalloss  hoursperweek  Salary\n",
       " 0       39           13         2174            0            40       0\n",
       " 1       50           13            0            0            13       0\n",
       " 2       38            9            0            0            40       0\n",
       " 3       53            7            0            0            40       0\n",
       " 4       28           13            0            0            40       0\n",
       " ...    ...          ...          ...          ...           ...     ...\n",
       " 30156   27           12            0            0            38       0\n",
       " 30157   40            9            0            0            40       1\n",
       " 30158   58            9            0            0            40       0\n",
       " 30159   22            9            0            0            20       0\n",
       " 30160   52            9        15024            0            40       1\n",
       " \n",
       " [30161 rows x 6 columns],\n",
       "        age  educationno  capitalgain  capitalloss  hoursperweek  Salary\n",
       " 0       25            7            0            0            40       0\n",
       " 1       38            9            0            0            50       0\n",
       " 2       28           12            0            0            40       1\n",
       " 3       44           10         7688            0            40       1\n",
       " 4       34            6            0            0            30       0\n",
       " ...    ...          ...          ...          ...           ...     ...\n",
       " 15055   33           13            0            0            40       0\n",
       " 15056   39           13            0            0            36       0\n",
       " 15057   38           13            0            0            50       0\n",
       " 15058   44           13         5455            0            40       0\n",
       " 15059   35           13            0            0            60       1\n",
       " \n",
       " [15060 rows x 6 columns],\n",
       " 0        0\n",
       " 1        0\n",
       " 2        0\n",
       " 3        0\n",
       " 4        0\n",
       "         ..\n",
       " 30156    0\n",
       " 30157    1\n",
       " 30158    0\n",
       " 30159    0\n",
       " 30160    1\n",
       " Name: Salary, Length: 30161, dtype: int32,\n",
       " 0        0\n",
       " 1        0\n",
       " 2        1\n",
       " 3        1\n",
       " 4        0\n",
       "         ..\n",
       " 15055    0\n",
       " 15056    0\n",
       " 15057    0\n",
       " 15058    0\n",
       " 15059    1\n",
       " Name: Salary, Length: 15060, dtype: int32)"
      ]
     },
     "execution_count": 26,
     "metadata": {},
     "output_type": "execute_result"
    }
   ],
   "source": [
    "x1_train, x1_test, y1_train, y1_test"
   ]
  },
  {
   "cell_type": "code",
   "execution_count": 27,
   "metadata": {
    "ExecuteTime": {
     "end_time": "2021-01-20T14:05:03.276564Z",
     "start_time": "2021-01-20T14:05:03.219561Z"
    }
   },
   "outputs": [],
   "source": [
    "from sklearn.preprocessing import StandardScaler\n",
    "sc = StandardScaler()\n",
    "x1_train = sc.fit_transform(x1_train)\n",
    "x1_test = sc.transform(x1_test)"
   ]
  },
  {
   "cell_type": "code",
   "execution_count": 28,
   "metadata": {
    "ExecuteTime": {
     "end_time": "2021-01-20T14:05:04.136614Z",
     "start_time": "2021-01-20T14:05:04.092611Z"
    }
   },
   "outputs": [
    {
     "data": {
      "text/plain": [
       "GaussianNB()"
      ]
     },
     "execution_count": 28,
     "metadata": {},
     "output_type": "execute_result"
    }
   ],
   "source": [
    "classifier = GaussianNB()\n",
    "classifier.fit(x1_train, y1_train)"
   ]
  },
  {
   "cell_type": "code",
   "execution_count": 29,
   "metadata": {
    "ExecuteTime": {
     "end_time": "2021-01-20T14:05:04.846654Z",
     "start_time": "2021-01-20T14:05:04.818653Z"
    }
   },
   "outputs": [
    {
     "data": {
      "text/plain": [
       "array([0, 0, 1, ..., 0, 0, 1])"
      ]
     },
     "execution_count": 29,
     "metadata": {},
     "output_type": "execute_result"
    }
   ],
   "source": [
    "y_pred = classifier.predict(x1_test) \n",
    "y_pred"
   ]
  },
  {
   "cell_type": "code",
   "execution_count": 30,
   "metadata": {
    "ExecuteTime": {
     "end_time": "2021-01-20T14:05:05.597697Z",
     "start_time": "2021-01-20T14:05:05.520693Z"
    }
   },
   "outputs": [
    {
     "name": "stdout",
     "output_type": "stream",
     "text": [
      "Accuracy :  1.0\n"
     ]
    },
    {
     "data": {
      "text/plain": [
       "array([[11360,     0],\n",
       "       [    0,  3700]], dtype=int64)"
      ]
     },
     "execution_count": 30,
     "metadata": {},
     "output_type": "execute_result"
    }
   ],
   "source": [
    "from sklearn.metrics import confusion_matrix\n",
    "cm = confusion_matrix(y1_test, y_pred)\n",
    "from sklearn.metrics import accuracy_score \n",
    "print (\"Accuracy : \", accuracy_score(y1_test, y_pred))\n",
    "cm"
   ]
  },
  {
   "cell_type": "code",
   "execution_count": 32,
   "metadata": {
    "ExecuteTime": {
     "end_time": "2021-01-20T14:05:52.965406Z",
     "start_time": "2021-01-20T14:05:52.926404Z"
    }
   },
   "outputs": [
    {
     "data": {
      "text/html": [
       "<div>\n",
       "<style scoped>\n",
       "    .dataframe tbody tr th:only-of-type {\n",
       "        vertical-align: middle;\n",
       "    }\n",
       "\n",
       "    .dataframe tbody tr th {\n",
       "        vertical-align: top;\n",
       "    }\n",
       "\n",
       "    .dataframe thead th {\n",
       "        text-align: right;\n",
       "    }\n",
       "</style>\n",
       "<table border=\"1\" class=\"dataframe\">\n",
       "  <thead>\n",
       "    <tr style=\"text-align: right;\">\n",
       "      <th></th>\n",
       "      <th>Real Values</th>\n",
       "      <th>Predicted Values</th>\n",
       "    </tr>\n",
       "  </thead>\n",
       "  <tbody>\n",
       "    <tr>\n",
       "      <th>0</th>\n",
       "      <td>0</td>\n",
       "      <td>0</td>\n",
       "    </tr>\n",
       "    <tr>\n",
       "      <th>1</th>\n",
       "      <td>0</td>\n",
       "      <td>0</td>\n",
       "    </tr>\n",
       "    <tr>\n",
       "      <th>2</th>\n",
       "      <td>1</td>\n",
       "      <td>1</td>\n",
       "    </tr>\n",
       "    <tr>\n",
       "      <th>3</th>\n",
       "      <td>1</td>\n",
       "      <td>1</td>\n",
       "    </tr>\n",
       "    <tr>\n",
       "      <th>4</th>\n",
       "      <td>0</td>\n",
       "      <td>0</td>\n",
       "    </tr>\n",
       "    <tr>\n",
       "      <th>...</th>\n",
       "      <td>...</td>\n",
       "      <td>...</td>\n",
       "    </tr>\n",
       "    <tr>\n",
       "      <th>15055</th>\n",
       "      <td>0</td>\n",
       "      <td>0</td>\n",
       "    </tr>\n",
       "    <tr>\n",
       "      <th>15056</th>\n",
       "      <td>0</td>\n",
       "      <td>0</td>\n",
       "    </tr>\n",
       "    <tr>\n",
       "      <th>15057</th>\n",
       "      <td>0</td>\n",
       "      <td>0</td>\n",
       "    </tr>\n",
       "    <tr>\n",
       "      <th>15058</th>\n",
       "      <td>0</td>\n",
       "      <td>0</td>\n",
       "    </tr>\n",
       "    <tr>\n",
       "      <th>15059</th>\n",
       "      <td>1</td>\n",
       "      <td>1</td>\n",
       "    </tr>\n",
       "  </tbody>\n",
       "</table>\n",
       "<p>15060 rows × 2 columns</p>\n",
       "</div>"
      ],
      "text/plain": [
       "       Real Values  Predicted Values\n",
       "0                0                 0\n",
       "1                0                 0\n",
       "2                1                 1\n",
       "3                1                 1\n",
       "4                0                 0\n",
       "...            ...               ...\n",
       "15055            0                 0\n",
       "15056            0                 0\n",
       "15057            0                 0\n",
       "15058            0                 0\n",
       "15059            1                 1\n",
       "\n",
       "[15060 rows x 2 columns]"
      ]
     },
     "execution_count": 32,
     "metadata": {},
     "output_type": "execute_result"
    }
   ],
   "source": [
    "df = pd.DataFrame({'Real Values':y1_test, 'Predicted Values':y_pred})\n",
    "df"
   ]
  }
 ],
 "metadata": {
  "kernelspec": {
   "display_name": "Python 3",
   "language": "python",
   "name": "python3"
  },
  "language_info": {
   "codemirror_mode": {
    "name": "ipython",
    "version": 3
   },
   "file_extension": ".py",
   "mimetype": "text/x-python",
   "name": "python",
   "nbconvert_exporter": "python",
   "pygments_lexer": "ipython3",
   "version": "3.8.3"
  },
  "toc": {
   "base_numbering": 1,
   "nav_menu": {},
   "number_sections": true,
   "sideBar": true,
   "skip_h1_title": false,
   "title_cell": "Table of Contents",
   "title_sidebar": "Contents",
   "toc_cell": false,
   "toc_position": {},
   "toc_section_display": true,
   "toc_window_display": false
  },
  "varInspector": {
   "cols": {
    "lenName": 16,
    "lenType": 16,
    "lenVar": 40
   },
   "kernels_config": {
    "python": {
     "delete_cmd_postfix": "",
     "delete_cmd_prefix": "del ",
     "library": "var_list.py",
     "varRefreshCmd": "print(var_dic_list())"
    },
    "r": {
     "delete_cmd_postfix": ") ",
     "delete_cmd_prefix": "rm(",
     "library": "var_list.r",
     "varRefreshCmd": "cat(var_dic_list()) "
    }
   },
   "types_to_exclude": [
    "module",
    "function",
    "builtin_function_or_method",
    "instance",
    "_Feature"
   ],
   "window_display": false
  }
 },
 "nbformat": 4,
 "nbformat_minor": 4
}
